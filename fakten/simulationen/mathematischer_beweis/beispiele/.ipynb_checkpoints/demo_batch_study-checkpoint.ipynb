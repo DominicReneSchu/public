{
 "cells": [
  {
   "cell_type": "markdown",
   "metadata": {},
   "source": [
    "# Demo: Batch-Studie zur Schu-Resonanzfeldtheorie\n",
    "\n",
    "Dieses Notebook zeigt, wie du mit `schu_resonanzfeld.py` systematisch Parameter-Scans (\"Batch-Studien\") durchführst und die Ergebnisse speicherst/analysierst.\n",
    "\n",
    "> **Voraussetzung:**\n",
    "> - schu_resonanzfeld.py im Python-Pfad (z.B. im selben Verzeichnis)\n",
    "> - numpy, pandas, matplotlib installiert\n"
   ]
  },
  {
   "cell_type": "code",
   "metadata": {},
   "execution_count": null,
   "outputs": [],
   "source": [
    "import numpy as np\n",
    "import pandas as pd\n",
    "from schu_resonanzfeld import berechne_resonanzenergie, berechne_resonanzentropie\n"
   ]
  },
  {
   "cell_type": "markdown",
   "metadata": {},
   "source": [
    "## 1. Parameter-Ranges für die Batch-Studie festlegen\n"
   ]
  },
  {
   "cell_type": "code",
   "metadata": {},
   "execution_count": null,
   "outputs": [],
   "source": [
    "# Feinere oder gröbere Abstände möglich, je nach Bedarf\n",
    "A_values = np.linspace(0.1, 5.0, 20)    # 20 Amplitudenwerte\n",
    "T_values = np.linspace(0.1, 5.0, 20)    # 20 Temperaturwerte\n"
   ]
  },
  {
   "cell_type": "markdown",
   "metadata": {},
   "source": [
    "## 2. Gitter berechnen und Ergebnisse sammeln\n"
   ]
  },
  {
   "cell_type": "code",
   "metadata": {},
   "execution_count": null,
   "outputs": [],
   "source": [
    "E_res, T_grid, A_grid = berechne_resonanzenergie(A_values, T_values)\n",
    "S_grid = berechne_resonanzentropie(E_res)\n"
   ]
  },
  {
   "cell_type": "markdown",
   "metadata": {},
   "source": [
    "## 3. Ergebnisse als DataFrame speichern (z. B. für spätere Auswertung oder Plot mit seaborn)\n"
   ]
  },
  {
   "cell_type": "code",
   "metadata": {},
   "execution_count": null,
   "outputs": [],
   "source": [
    "# Die Gitter werden in lange Tabellenform gebracht (\"melt\")\n",
    "result_df = pd.DataFrame({\n",
    "    'A': A_grid.flatten(),\n",
    "    'T': T_grid.flatten(),\n",
    "    'E_res': E_res.flatten(),\n",
    "    'S': S_grid.flatten(),\n",
    "})\n",
    "result_df.head()"
   ]
  },
  {
   "cell_type": "markdown",
   "metadata": {},
   "source": [
    "## 4. Export als CSV (optional)\n"
   ]
  },
  {
   "cell_type": "code",
   "metadata": {},
   "execution_count": null,
   "outputs": [],
   "source": [
    "result_df.to_csv('batch_resonanzfeld_results.csv', index=False)\n",
    "print(\"Ergebnisse als batch_resonanzfeld_results.csv gespeichert.\")"
   ]
  },
  {
   "cell_type": "markdown",
   "metadata": {},
   "source": [
    "## 5. Beispielhafte Visualisierung mit seaborn (optional, falls installiert)\n"
   ]
  },
  {
   "cell_type": "code",
   "metadata": {},
   "execution_count": null,
   "outputs": [],
   "source": [
    "try:\n",
    "    import seaborn as sns\n",
    "    import matplotlib.pyplot as plt\n",
    "    plt.figure(figsize=(8,6))\n",
    "    pivot = result_df.pivot_table(index='A', columns='T', values='E_res')\n",
    "    sns.heatmap(pivot, cmap='inferno')\n",
    "    plt.title('Resonanzenergie $E_{res}$ als Funktion von $A$ und $T$')\n",
    "    plt.xlabel('Temperatur $T$')\n",
    "    plt.ylabel('Amplitude $A$')\n",
    "    plt.show()\n",
    "except ImportError:\n",
    "    print(\"seaborn nicht installiert – Heatmap wird übersprungen.\")"
   ]
  },
  {
   "cell_type": "markdown",
   "metadata": {},
   "source": [
    "---\n",
    "**Weiterführende Analysen:**\n",
    "- Statistische Auswertung (z. B. Mittelwert/Varianz von $E_{res}$ oder $S$ über A/T)\n",
    "- Batch-Studien mit anderen Parametern (z. B. Variation von $\\gamma$ oder $\\omega_0$)\n",
    "- Automatisierte Parameter-Sweeps für Forschungsreihen\n",
    "\n",
    "Siehe README und schu_resonanzfeld.py für weitere Hinweise!"
   ]
  }
 ],
 "metadata": {
  "kernelspec": {
   "display_name": "Python 3",
   "language": "python",
   "name": "python3"
  },
  "language_info": {
   "name": "python",
   "version": ""
  }
 },
 "nbformat": 4,
 "nbformat_minor": 2
}