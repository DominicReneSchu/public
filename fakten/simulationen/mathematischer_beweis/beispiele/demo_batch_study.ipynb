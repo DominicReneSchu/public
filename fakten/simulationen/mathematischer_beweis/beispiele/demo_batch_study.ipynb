{
 "cells": [
  {
   "cell_type": "markdown",
   "metadata": {},
   "source": [
    "# Demo: Batch-Studie zur Schu-Resonanzfeldtheorie\n",
    "\n",
    "Dieses Notebook zeigt, wie du mit `schu_resonanzfeld.py` systematisch Parameter-Scans (\"Batch-Studien\") durchführst und die Ergebnisse speicherst/analysierst.\n",
    "\n",
    "> **Voraussetzung:**\n",
    "> - schu_resonanzfeld.py im Python-Pfad (z.B. im selben Verzeichnis)\n",
    "> - numpy, pandas, matplotlib installiert\n"
   ]
  },
  {
   "cell_type": "code",
   "execution_count": 1,
   "metadata": {},
   "outputs": [
    {
     "ename": "ModuleNotFoundError",
     "evalue": "No module named 'schu_resonanzfeld'",
     "output_type": "error",
     "traceback": [
      "\u001b[31m---------------------------------------------------------------------------\u001b[39m",
      "\u001b[31mModuleNotFoundError\u001b[39m                       Traceback (most recent call last)",
      "\u001b[36mCell\u001b[39m\u001b[36m \u001b[39m\u001b[32mIn[1]\u001b[39m\u001b[32m, line 3\u001b[39m\n\u001b[32m      1\u001b[39m \u001b[38;5;28;01mimport\u001b[39;00m\u001b[38;5;250m \u001b[39m\u001b[34;01mnumpy\u001b[39;00m\u001b[38;5;250m \u001b[39m\u001b[38;5;28;01mas\u001b[39;00m\u001b[38;5;250m \u001b[39m\u001b[34;01mnp\u001b[39;00m\n\u001b[32m      2\u001b[39m \u001b[38;5;28;01mimport\u001b[39;00m\u001b[38;5;250m \u001b[39m\u001b[34;01mpandas\u001b[39;00m\u001b[38;5;250m \u001b[39m\u001b[38;5;28;01mas\u001b[39;00m\u001b[38;5;250m \u001b[39m\u001b[34;01mpd\u001b[39;00m\n\u001b[32m----> \u001b[39m\u001b[32m3\u001b[39m \u001b[38;5;28;01mfrom\u001b[39;00m\u001b[38;5;250m \u001b[39m\u001b[34;01mschu_resonanzfeld\u001b[39;00m\u001b[38;5;250m \u001b[39m\u001b[38;5;28;01mimport\u001b[39;00m berechne_resonanzenergie, berechne_resonanzentropie\n",
      "\u001b[31mModuleNotFoundError\u001b[39m: No module named 'schu_resonanzfeld'"
     ]
    }
   ],
   "source": [
    "import numpy as np\n",
    "import pandas as pd\n",
    "from schu_resonanzfeld import berechne_resonanzenergie, berechne_resonanzentropie\n"
   ]
  },
  {
   "cell_type": "markdown",
   "metadata": {},
   "source": [
    "## 1. Parameter-Ranges für die Batch-Studie festlegen\n"
   ]
  },
  {
   "cell_type": "code",
   "execution_count": 2,
   "metadata": {},
   "outputs": [],
   "source": [
    "# Feinere oder gröbere Abstände möglich, je nach Bedarf\n",
    "A_values = np.linspace(0.1, 5.0, 20)    # 20 Amplitudenwerte\n",
    "T_values = np.linspace(0.1, 5.0, 20)    # 20 Temperaturwerte\n"
   ]
  },
  {
   "cell_type": "markdown",
   "metadata": {},
   "source": [
    "## 2. Gitter berechnen und Ergebnisse sammeln\n"
   ]
  },
  {
   "cell_type": "code",
   "execution_count": null,
   "metadata": {},
   "outputs": [],
   "source": [
    "E_res, T_grid, A_grid = berechne_resonanzenergie(A_values, T_values)\n",
    "S_grid = berechne_resonanzentropie(E_res)\n"
   ]
  },
  {
   "cell_type": "markdown",
   "metadata": {},
   "source": [
    "## 3. Ergebnisse als DataFrame speichern (z. B. für spätere Auswertung oder Plot mit seaborn)\n"
   ]
  },
  {
   "cell_type": "code",
   "execution_count": null,
   "metadata": {},
   "outputs": [],
   "source": [
    "# Die Gitter werden in lange Tabellenform gebracht (\"melt\")\n",
    "result_df = pd.DataFrame({\n",
    "    'A': A_grid.flatten(),\n",
    "    'T': T_grid.flatten(),\n",
    "    'E_res': E_res.flatten(),\n",
    "    'S': S_grid.flatten(),\n",
    "})\n",
    "result_df.head()"
   ]
  },
  {
   "cell_type": "markdown",
   "metadata": {},
   "source": [
    "## 4. Export als CSV (optional)\n"
   ]
  },
  {
   "cell_type": "code",
   "execution_count": null,
   "metadata": {},
   "outputs": [],
   "source": [
    "result_df.to_csv('batch_resonanzfeld_results.csv', index=False)\n",
    "print(\"Ergebnisse als batch_resonanzfeld_results.csv gespeichert.\")"
   ]
  },
  {
   "cell_type": "markdown",
   "metadata": {},
   "source": [
    "## 5. Beispielhafte Visualisierung mit seaborn (optional, falls installiert)\n"
   ]
  },
  {
   "cell_type": "code",
   "execution_count": null,
   "metadata": {},
   "outputs": [],
   "source": [
    "try:\n",
    "    import seaborn as sns\n",
    "    import matplotlib.pyplot as plt\n",
    "    plt.figure(figsize=(8,6))\n",
    "    pivot = result_df.pivot_table(index='A', columns='T', values='E_res')\n",
    "    sns.heatmap(pivot, cmap='inferno')\n",
    "    plt.title('Resonanzenergie $E_{res}$ als Funktion von $A$ und $T$')\n",
    "    plt.xlabel('Temperatur $T$')\n",
    "    plt.ylabel('Amplitude $A$')\n",
    "    plt.show()\n",
    "except ImportError:\n",
    "    print(\"seaborn nicht installiert – Heatmap wird übersprungen.\")"
   ]
  },
  {
   "cell_type": "markdown",
   "metadata": {},
   "source": [
    "---\n",
    "**Weiterführende Analysen:**\n",
    "- Statistische Auswertung (z. B. Mittelwert/Varianz von $E_{res}$ oder $S$ über A/T)\n",
    "- Batch-Studien mit anderen Parametern (z. B. Variation von $\\gamma$ oder $\\omega_0$)\n",
    "- Automatisierte Parameter-Sweeps für Forschungsreihen\n",
    "\n",
    "Siehe README und schu_resonanzfeld.py für weitere Hinweise!"
   ]
  }
 ],
 "metadata": {
  "kernelspec": {
   "display_name": "Python 3 (ipykernel)",
   "language": "python",
   "name": "python3"
  },
  "language_info": {
   "codemirror_mode": {
    "name": "ipython",
    "version": 3
   },
   "file_extension": ".py",
   "mimetype": "text/x-python",
   "name": "python",
   "nbconvert_exporter": "python",
   "pygments_lexer": "ipython3",
   "version": "3.13.3"
  }
 },
 "nbformat": 4,
 "nbformat_minor": 4
}
