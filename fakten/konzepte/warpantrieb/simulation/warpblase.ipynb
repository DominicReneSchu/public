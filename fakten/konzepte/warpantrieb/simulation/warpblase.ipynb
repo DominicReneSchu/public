{
 "cells": [
  {
   "cell_type": "markdown",
   "metadata": {},
   "source": [
    "# Warp-Blase im Raumresonanzfeld – 3D, Mehrfachblasen, Interaktivität, Energiemapping\n",
    "\n",
    "© Dominic Schu, 2025 – Alle Rechte vorbehalten.\n",
    "\n",
    "- 3D-Visualisierung (`plot_surface`)\n",
    "- Mehrere bewegliche Warp-Blasen (Interferenz)\n",
    "- Interaktive Steuerung (Radius, Frequenz, Blasenanzahl, Amplitude)\n",
    "- Energiemapping: $E(x,y,t) \\propto |\\nabla \\text{field}|^2$\n",
    "- Vollständig Maus-drehbare Ansicht"
   ]
  },
  {
   "cell_type": "code",
   "metadata": {},
   "execution_count": null,
   "outputs": [],
   "source": [
    "import numpy as np\n",
    "import matplotlib.pyplot as plt\n",
    "from matplotlib import animation\n",
    "from mpl_toolkits.mplot3d import Axes3D  # noqa: F401\n",
    "from matplotlib.widgets import Slider, Button"
   ]
  },
  {
   "cell_type": "code",
   "metadata": {},
   "execution_count": null,
   "outputs": [],
   "source": [
    "# --- Parameterbereich und Grid ---\n",
    "size = 100\n",
    "x = np.linspace(-5, 5, size)\n",
    "y = np.linspace(-5, 5, size)\n",
    "X, Y = np.meshgrid(x, y)"
   ]
  },
  {
   "cell_type": "code",
   "metadata": {},
   "execution_count": null,
   "outputs": [],
   "source": [
    "# --- Default-Parameter ---\n",
    "dt = 0.05\n",
    "t0 = 0.0\n",
    "f_default = 160e9  # Hz\n",
    "radius_default = 1.5\n",
    "n_bubbles_default = 2\n",
    "motion_ampl_default = 0.5\n",
    "energy_map = True  # Energiemapping anzeigen\n",
    "\n",
    "# --- Blasenparameter ---\n",
    "f = f_default\n",
    "radius = radius_default\n",
    "n_bubbles = n_bubbles_default\n",
    "motion_ampl = motion_ampl_default"
   ]
  },
  {
   "cell_type": "code",
   "metadata": {},
   "execution_count": null,
   "outputs": [],
   "source": [
    "def bubble_centers(t, n_bubbles, ampl):\n",
    "    \"\"\"\n",
    "    Erzeugt eine Liste von Bubble-Zentren, die sich sinusförmig bewegen.\n",
    "    \"\"\"\n",
    "    centers = []\n",
    "    for i in range(n_bubbles):\n",
    "        ang = 2 * np.pi * i / n_bubbles\n",
    "        x0 = 2.0 * np.cos(ang) + ampl * np.sin(2 * np.pi * (0.1 + 0.05 * i) * t)\n",
    "        y0 = 2.0 * np.sin(ang)\n",
    "        centers.append((x0, y0))\n",
    "    return centers"
   ]
  },
  {
   "cell_type": "code",
   "metadata": {},
   "execution_count": null,
   "outputs": [],
   "source": [
    "def warp_field(t, centers, radius, f):\n",
    "    \"\"\"\n",
    "    Feld mit mehreren Warp-Blasen und sanften Übergängen.\n",
    "    \"\"\"\n",
    "    base_wave = np.sin(2 * np.pi * f * t)\n",
    "    field = base_wave * np.ones_like(X)\n",
    "    phase_front = np.pi\n",
    "    phase_back = 0\n",
    "\n",
    "    for center in centers:\n",
    "        R = np.sqrt((X - center[0])**2 + (Y - center[1])**2)\n",
    "        front_mask = X > center[0] + radius\n",
    "        back_mask = X < center[0] - radius\n",
    "        inside_bubble = np.exp(- (R / radius)**6)\n",
    "        field[front_mask] = np.sin(2 * np.pi * f * t + phase_front)\n",
    "        field[back_mask] = np.sin(2 * np.pi * f * t + phase_back)\n",
    "        field *= (1 - inside_bubble)\n",
    "    return field"
   ]
  },
  {
   "cell_type": "code",
   "metadata": {},
   "execution_count": null,
   "outputs": [],
   "source": [
    "def energy_density(field, dx):\n",
    "    \"\"\"\n",
    "    Lokale (normierte) Energiedichte: |Gradient(field)|^2\n",
    "    \"\"\"\n",
    "    grad_x, grad_y = np.gradient(field, dx)\n",
    "    E = grad_x**2 + grad_y**2\n",
    "    return E / np.max(E)"
   ]
  },
  {
   "cell_type": "code",
   "metadata": {},
   "execution_count": null,
   "outputs": [],
   "source": [
    "def update_plot(val):\n",
    "    global t, f, radius, n_bubbles, motion_ampl\n",
    "    f = f_slider.val * 1e9\n",
    "    radius = radius_slider.val\n",
    "    n_bubbles = int(n_bubbles_slider.val)\n",
    "    motion_ampl = motion_slider.val\n",
    "    t = 0.0\n",
    "\n",
    "    field = warp_field(t, bubble_centers(t, n_bubbles, motion_ampl), radius, f)\n",
    "    surf[0].remove()\n",
    "    if energy_map:\n",
    "        E = energy_density(field, x[1] - x[0])\n",
    "        surf[0] = ax.plot_surface(X, Y, E, cmap='inferno', edgecolor='none')\n",
    "        ax.set_zlabel('Energiedichte')\n",
    "    else:\n",
    "        surf[0] = ax.plot_surface(X, Y, field, cmap='RdBu', edgecolor='none', vmin=-1, vmax=1)\n",
    "        ax.set_zlabel('Feld')\n",
    "    fig.canvas.draw_idle()"
   ]
  },
  {
   "cell_type": "code",
   "metadata": {},
   "execution_count": null,
   "outputs": [],
   "source": [
    "def animate(frame):\n",
    "    global t\n",
    "    t += dt\n",
    "    centers = bubble_centers(t, n_bubbles, motion_ampl)\n",
    "    field = warp_field(t, centers, radius, f)\n",
    "    surf[0].remove()\n",
    "    if energy_map:\n",
    "        E = energy_density(field, x[1] - x[0])\n",
    "        surf[0] = ax.plot_surface(X, Y, E, cmap='inferno', edgecolor='none')\n",
    "    else:\n",
    "        surf[0] = ax.plot_surface(X, Y, field, cmap='RdBu', edgecolor='none', vmin=-1, vmax=1)\n",
    "    return surf"
   ]
  },
  {
   "cell_type": "code",
   "metadata": {},
   "execution_count": null,
   "outputs": [],
   "source": [
    "def reset(event):\n",
    "    update_plot(None)"
   ]
  },
  {
   "cell_type": "code",
   "metadata": {},
   "execution_count": null,
   "outputs": [],
   "source": [
    "# --- Plot Setup ---\n",
    "fig = plt.figure(figsize=(9, 7))\n",
    "ax = fig.add_subplot(111, projection='3d')\n",
    "ax.mouse_init()\n",
    "\n",
    "t = t0\n",
    "centers = bubble_centers(t, n_bubbles, motion_ampl)\n",
    "field = warp_field(t, centers, radius, f)\n",
    "if energy_map:\n",
    "    E = energy_density(field, x[1] - x[0])\n",
    "    surf = [ax.plot_surface(X, Y, E, cmap='inferno', edgecolor='none')]\n",
    "    ax.set_zlabel('Energiedichte')\n",
    "else:\n",
    "    surf = [ax.plot_surface(X, Y, field, cmap='RdBu', edgecolor='none', vmin=-1, vmax=1)]\n",
    "    ax.set_zlabel('Feld')\n",
    "ax.set_xlabel('x')\n",
    "ax.set_ylabel('y')\n",
    "ax.set_title(\"Warp-Blasen im Raumresonanzfeld (3D, Interaktiv, Energie)\")\n",
    "\n",
    "plt.subplots_adjust(left=0.12, right=0.95, bottom=0.23, top=0.92)"
   ]
  },
  {
   "cell_type": "code",
   "metadata": {},
   "execution_count": null,
   "outputs": [],
   "source": [
    "# --- Slider für Interaktivität ---\n",
    "axcolor = 'lightgoldenrodyellow'\n",
    "ax_f = plt.axes([0.12, 0.13, 0.32, 0.03], facecolor=axcolor)\n",
    "ax_radius = plt.axes([0.12, 0.09, 0.32, 0.03], facecolor=axcolor)\n",
    "ax_n_bubbles = plt.axes([0.12, 0.05, 0.32, 0.03], facecolor=axcolor)\n",
    "ax_motion = plt.axes([0.60, 0.13, 0.32, 0.03], facecolor=axcolor)\n",
    "ax_reset = plt.axes([0.60, 0.07, 0.1, 0.04])\n",
    "\n",
    "from matplotlib.widgets import Slider, Button\n",
    "\n",
    "f_slider = Slider(ax_f, 'Frequenz [GHz]', 10, 400, valinit=f_default / 1e9, valfmt='%1.0f')\n",
    "radius_slider = Slider(ax_radius, 'Radius', 0.5, 3.5, valinit=radius_default, valfmt='%1.2f')\n",
    "n_bubbles_slider = Slider(ax_n_bubbles, 'Blasenanzahl', 1, 5, valinit=n_bubbles_default, valstep=1)\n",
    "motion_slider = Slider(ax_motion, 'Bewegung', 0.0, 2.0, valinit=motion_ampl_default, valfmt='%1.2f')\n",
    "button_reset = Button(ax_reset, 'Reset', color='w', hovercolor='0.85')\n",
    "\n",
    "f_slider.on_changed(update_plot)\n",
    "radius_slider.on_changed(update_plot)\n",
    "n_bubbles_slider.on_changed(update_plot)\n",
    "motion_slider.on_changed(update_plot)\n",
    "button_reset.on_clicked(reset)"
   ]
  },
  {
   "cell_type": "code",
   "metadata": {},
   "execution_count": null,
   "outputs": [],
   "source": [
    "ani = animation.FuncAnimation(fig, animate, frames=300, interval=50, blit=False)\n",
    "plt.show()"
   ]
  }
 ],
 "metadata": {
  "kernelspec": {
   "display_name": "Python 3",
   "language": "python",
   "name": "python3"
  },
  "language_info": {
   "name": "python",
   "version": "3.9"
  }
 },
 "nbformat": 4,
 "nbformat_minor": 2
}