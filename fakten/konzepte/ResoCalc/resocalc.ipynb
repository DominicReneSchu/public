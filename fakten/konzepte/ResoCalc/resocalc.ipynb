{
 "cells": [
  {
   "cell_type": "markdown",
   "metadata": {},
   "source": [
    "# ResoCalc vs. Konventionell – Interaktive Simulation\n",
    "\n",
    "Vergleich des effektiven Drehmoments zwischen konventioneller Berechnung und ResoCalc-Verfahren.\n",
    "\n",
    "Nutze die Schieberegler, um Parameter wie Masse, Länge, Resonanzfrequenz, Kopplung und maximalen Winkel zu verändern."
   ]
  },
  {
   "cell_type": "code",
   "metadata": {},
   "execution_count": null,
   "outputs": [],
   "source": [
    "import numpy as np\n",
    "import matplotlib.pyplot as plt\n",
    "from ipywidgets import interact, FloatSlider, VBox, HBox, Layout\n",
    "from IPython.display import display, Markdown"
   ]
  },
  {
   "cell_type": "code",
   "metadata": {},
   "execution_count": null,
   "outputs": [],
   "source": [
    "def reso_sim(m=2.0, l=1.0, f_r=5.0, kopplung=0.2, theta_max=0.1):\n",
    "    frequenzen = np.linspace(1, 20, 300)\n",
    "    omega = 2 * np.pi * frequenzen\n",
    "\n",
    "    # Trägheitsmomente\n",
    "    J_konv = m * l**2\n",
    "    J_reso = 0.5 * m * l**2\n",
    "\n",
    "    # Konventionelles Drehmoment\n",
    "    M_konv = J_konv * omega**2 * theta_max / np.sqrt(2)\n",
    "\n",
    "    # ResoCalc-Drehmoment\n",
    "    r = frequenzen / f_r\n",
    "    delta = np.abs(1 - r**2)\n",
    "    delta[delta < 0.0001] = 0.0001  # Singularität vermeiden\n",
    "    V = 1 / delta\n",
    "    M_reso = J_reso * omega**2 * V * kopplung\n",
    "\n",
    "    # Plot\n",
    "    plt.figure(figsize=(10, 6))\n",
    "    plt.plot(frequenzen, M_konv, label='Konventionell', color='blue', lw=2)\n",
    "    plt.plot(frequenzen, M_reso, label='ResoCalc', color='red', lw=2)\n",
    "    plt.axvline(f_r, color='gray', linestyle='--', label='f_r (Resonanz)')\n",
    "    plt.xlabel('Frequenz (Hz)')\n",
    "    plt.ylabel('Effektives Drehmoment (Nm)')\n",
    "    plt.title('Vergleich: Konventionelle Berechnung vs. ResoCalc')\n",
    "    plt.legend()\n",
    "    plt.grid(True, which='both', ls=':')\n",
    "    plt.tight_layout()\n",
    "    plt.show()\n",
    "\n",
    "    # Optionale Zusatzinfos (korrekt als Raw-f-String für LaTeX)\n",
    "    display(Markdown(\n",
    "        rf\"**Konventionelles Trägheitsmoment:** $J_\\mathrm{{konv}} = {J_konv:.2f}\\ \\mathrm{{kg\\,m^2}}$<br>\"\n",
    "        rf\"**Resonanz-Trägheitsmoment:** $J_\\mathrm{{reso}} = {J_reso:.2f}\\ \\mathrm{{kg\\,m^2}}$\"\n",
    "    ))"
   ]
  },
  {
   "cell_type": "code",
   "metadata": {},
   "execution_count": null,
   "outputs": [],
   "source": [
    "# Interaktives UI mit kompaktem Layout\n",
    "style = {'description_width': '90px'}\n",
    "layout = Layout(width='70%')\n",
    "\n",
    "m_slider = FloatSlider(value=2.0, min=0.1, max=10.0, step=0.1, description='Masse $m$', style=style, layout=layout)\n",
    "l_slider = FloatSlider(value=1.0, min=0.1, max=5.0, step=0.1, description='Länge $l$', style=style, layout=layout)\n",
    "f_r_slider = FloatSlider(value=5.0, min=1.0, max=20.0, step=0.1, description='$f_r$ [Hz]', style=style, layout=layout)\n",
    "kopplung_slider = FloatSlider(value=0.2, min=0.01, max=1.0, step=0.01, description='Kopplung', style=style, layout=layout)\n",
    "theta_max_slider = FloatSlider(value=0.1, min=0.01, max=1.0, step=0.01, description='$\\\\theta_\\\\mathrm{max}$', style=style, layout=layout)\n",
    "\n",
    "ui = VBox([\n",
    "    HBox([m_slider, l_slider, f_r_slider]),\n",
    "    HBox([kopplung_slider, theta_max_slider])\n",
    "])\n",
    "\n",
    "interact(\n",
    "    reso_sim,\n",
    "    m=m_slider,\n",
    "    l=l_slider,\n",
    "    f_r=f_r_slider,\n",
    "    kopplung=kopplung_slider,\n",
    "    theta_max=theta_max_slider,\n",
    ");"
   ]
  }
 ],
 "metadata": {
  "kernelspec": {
   "display_name": "Python 3",
   "language": "python",
   "name": "python3"
  },
  "language_info": {
   "name": "python",
   "version": "3.9"
  }
 },
 "nbformat": 4,
 "nbformat_minor": 2
}